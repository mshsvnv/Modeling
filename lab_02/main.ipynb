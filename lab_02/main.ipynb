{
 "cells": [
  {
   "cell_type": "code",
   "execution_count": 1,
   "metadata": {},
   "outputs": [],
   "source": [
    "%matplotlib inline\n",
    "import numpy as np\n",
    "import pandas as pd\n",
    "import matplotlib.pyplot as plt\n",
    "import prettytable as pt\n",
    "import copy\n",
    "import random"
   ]
  },
  {
   "cell_type": "markdown",
   "metadata": {},
   "source": [
    "# Лабораторная №2"
   ]
  },
  {
   "cell_type": "markdown",
   "metadata": {},
   "source": [
    "### Линейная интерполяция"
   ]
  },
  {
   "cell_type": "code",
   "execution_count": 2,
   "metadata": {},
   "outputs": [],
   "source": [
    "class Interpolation:\n",
    "\n",
    "    def __init__(self, i = 1):\n",
    "        \n",
    "        self.koefs = None\n",
    "\n",
    "        self.readCSV(\"table.csv\", i)\n",
    "\n",
    "        print(f\"Коэффициенты: {self.koefs[0]}x + {self.koefs[1]}\")\n",
    "\n",
    "    def readCSV(self, fileName, i):\n",
    "        \n",
    "        df = pd.read_csv(fileName)\n",
    "\n",
    "        x = np.log(df['t'].to_numpy())\n",
    "        y = np.log(df[f'var{i}'].to_numpy())\n",
    "        \n",
    "        koefs = np.zeros((y.size - 1, 2))\n",
    "\n",
    "        for i in range(1, y.size):\n",
    "            koefs[i - 1, 0] = (y[i] - y[i - 1]) / (x[i] - x[i - 1])\n",
    "            koefs[i - 1, 1] = y[i - 1] - koefs[i - 1, 0] * x[i - 1]\n",
    "\n",
    "        self.koefs = [np.mean(koefs[:, 0]), \n",
    "                      np.mean(koefs[:, 1])]\n",
    "    \n",
    "    def graph(self, fileName = \"table.csv\"):\n",
    "\n",
    "        df = pd.read_csv(fileName)\n",
    "\n",
    "        x1 = df['t'].to_numpy()\n",
    "        y1 = df[f'var{1}'].to_numpy()\n",
    "        y2 = df[f'var{2}'].to_numpy()\n",
    "\n",
    "        plt.plot(x1, y1, color = 'green')\n",
    "        plt.plot(x1, y2, color = 'blue')\n",
    "\n",
    "        plt.show()\n",
    "        \n",
    "    def getResult(self, x):\n",
    "        x = np.log(x)\n",
    "        \n",
    "        return np.exp(self.koefs[0] * x + self.koefs[1])\n",
    "    \n",
    "# interpol = Interpolation()\n",
    "# interpol.graph()"
   ]
  },
  {
   "cell_type": "markdown",
   "metadata": {},
   "source": [
    "### Исходная система уравнений"
   ]
  },
  {
   "cell_type": "code",
   "execution_count": 3,
   "metadata": {},
   "outputs": [],
   "source": [
    "class Equation:\n",
    "\n",
    "    def __init__(self):\n",
    "        self.R = 0.35\n",
    "        self.Tw = 2000\n",
    "        self.T0 = 1e4\n",
    "        self.p = 4\n",
    "        self.c = 3e10\n",
    "\n",
    "        self.cur_z = -1\n",
    "        \n",
    "        self.interpolation = Interpolation()\n",
    "\n",
    "    def T(self, z):\n",
    "        return (self.Tw - self.T0) * z ** self.p + self.T0\n",
    "\n",
    "    def u_p(self, z):\n",
    "        return 3.084e-4 / (np.exp(4.799e4 / self.T(z)) - 1)\n",
    "\n",
    "    def k(self, z):\n",
    "        return self.interpolation.getResult(self.T(z))\n",
    "    \n",
    "    def dU(self, z, F):\n",
    "        return -3 * self.R * self.k(z) * F / self.c\n",
    "    \n",
    "    def dF(self, z, u, F):\n",
    "\n",
    "        part = self.c * self.k(z) * (self.u_p(z) - u) * self.R\n",
    "\n",
    "        if z == 0:\n",
    "            return 0\n",
    "        \n",
    "        return part - F / z\n"
   ]
  },
  {
   "cell_type": "markdown",
   "metadata": {},
   "source": [
    "### Решение системы ОДУ"
   ]
  },
  {
   "cell_type": "code",
   "execution_count": 4,
   "metadata": {},
   "outputs": [],
   "source": [
    "class Solver:\n",
    "\n",
    "    def __init__(self, system : Equation):\n",
    "        \n",
    "        self.N = 300\n",
    "\n",
    "        z0 = 0\n",
    "        zMax = 1\n",
    "\n",
    "        self.z = np.linspace(z0, zMax, self.N)\n",
    "\n",
    "        self.step = (zMax - z0) / self.N\n",
    "        self.system = system\n",
    "\n",
    "        self.Fmax = 0\n",
    "\n",
    "    def psi(self, ksi):\n",
    "\n",
    "        u, F = self.RungeKutt4(ksi)\n",
    "\n",
    "        self.Fmax = max(F)\n",
    "\n",
    "        return F[-1] - 0.393 * self.system.c * u[-1]\n",
    "\n",
    "    def DichotomyMethod(self):\n",
    "\n",
    "        delta = 1.12e-16\n",
    "\n",
    "        ksi = [0, 1]\n",
    "        psi = [self.psi(ksi[0]), self.psi(ksi[1])]\n",
    "\n",
    "        old_ksi = []\n",
    "\n",
    "        while (np.abs(ksi[0] - ksi[1]) > delta):\n",
    "\n",
    "            old_ksi = copy.copy(ksi)\n",
    "\n",
    "            cur_ksi = (ksi[0] + ksi[1]) / 2\n",
    "            cur_psi = self.psi(cur_ksi)\n",
    "\n",
    "            if cur_psi * psi[0] < 0:\n",
    "                ksi[1] = cur_ksi\n",
    "                psi[1] = cur_psi\n",
    "            else:\n",
    "                ksi[0] = cur_ksi\n",
    "                psi[0] = cur_psi\n",
    "\n",
    "        return old_ksi, *self.RungeKutt4(cur_ksi)\n",
    "    \n",
    "    def Adams(self, ksi):\n",
    "\n",
    "        uRes = np.zeros((self.N,))\n",
    "        FRes = np.zeros((self.N,))\n",
    "\n",
    "        uRes[0] = ksi * self.system.u_p(0)\n",
    "\n",
    "        for i in range(1, self.N):\n",
    "\n",
    "            z = self.z[i - 1]\n",
    "\n",
    "            k1 = self.step * self.system.dU(z, FRes[i - 1])\n",
    "            l1 = self.step * self.system.dF(z, uRes[i - 1], FRes[i - 1])\n",
    "\n",
    "            k2 = 0\n",
    "            l2 = 0\n",
    "            if i > 1:\n",
    "                k2 = self.step * self.system.dU(self.z[i - 2], FRes[i - 2])\n",
    "                l2 = self.step * self.system.dF(self.z[i - 2], uRes[i - 2], FRes[i - 2])\n",
    "\n",
    "            k3 = 0\n",
    "            l3 = 0\n",
    "            if i > 2:\n",
    "                k3 = self.step * self.system.dU(self.z[i - 3], FRes[i - 3])\n",
    "                l3 = self.step * self.system.dF(self.z[i - 3], uRes[i - 3], FRes[i - 3])\n",
    "\n",
    "            delta_u = (23 * k1 - 16 * k2 + 5 * k3) / 12\n",
    "            delta_F = (23 * l1 - 16 * l2 + 5 * l3) / 12\n",
    "\n",
    "            if abs(delta_u) < 1e-18:\n",
    "                uRes[i] =  uRes[i - 1] + delta_u\n",
    "            else:\n",
    "                uRes[i] =  self.system.u_p(z)\n",
    "\n",
    "            FRes[i] = FRes[i - 1] + delta_F\n",
    "\n",
    "        return uRes, FRes\n",
    "\n",
    "    def RungeKutt2(self, ksi):\n",
    "\n",
    "        halfStep = self.step / 2\n",
    "        \n",
    "        uRes = np.zeros((self.N,))\n",
    "        FRes = np.zeros((self.N,))\n",
    "\n",
    "        uRes[0] = ksi * self.system.u_p(0)\n",
    "\n",
    "        for i in range(1, self.N):\n",
    "\n",
    "            z = self.z[i - 1]\n",
    "\n",
    "            k1 = self.system.dU(z, FRes[i - 1])\n",
    "            l1 = self.system.dF(z, uRes[i - 1], FRes[i - 1])\n",
    "\n",
    "            k2 = self.system.dU(z + halfStep, FRes[i - 1] + halfStep * l1)\n",
    "            l2 = self.system.dF(z + halfStep, uRes[i - 1] + halfStep * k1, FRes[i - 1] + halfStep * l1)\n",
    "\n",
    "            uRes[i] =  uRes[i - 1] + self.step * k2\n",
    "            FRes[i] =  FRes[i - 1] + self.step * l2\n",
    "\n",
    "        return uRes, FRes\n",
    "\n",
    "    def RungeKutt4(self, ksi):\n",
    "\n",
    "        halfStep = self.step / 2\n",
    "\n",
    "        uRes = np.zeros((self.N,))\n",
    "        FRes = np.zeros((self.N,))\n",
    "        \n",
    "        uRes[0] = ksi * self.system.u_p(0)\n",
    "\n",
    "        for i in range(1, self.N):\n",
    "\n",
    "            z = self.z[i - 1]\n",
    "\n",
    "            k1 = self.system.dU(z, FRes[i - 1])\n",
    "            l1 = self.system.dF(z, uRes[i - 1], FRes[i - 1])\n",
    "\n",
    "            k2 = self.system.dU(z + halfStep, FRes[i - 1] + halfStep * l1)\n",
    "            l2 = self.system.dF(z + halfStep, uRes[i - 1] + halfStep * k1, FRes[i - 1] + halfStep * l1)\n",
    "\n",
    "            k3 = self.system.dU(z + halfStep, FRes[i - 1] + halfStep * l2)\n",
    "            l3 = self.system.dF(z + halfStep, uRes[i - 1] + halfStep * k2, FRes[i - 1] + halfStep * l2)\n",
    "\n",
    "            k4 = self.system.dU(z + self.step, FRes[i - 1] + self.step * l3)\n",
    "            l4 = self.system.dF(z + self.step, uRes[i - 1] + self.step * k3, FRes[i - 1] + self.step * l3)\n",
    "\n",
    "            uRes[i] =  uRes[i - 1] + self.step * (k1 + 2 * k2 + 2 * k3 + k4) / 6\n",
    "            FRes[i] =  FRes[i - 1] + self.step * (l1 + 2 * l2 + 2 * l3 + l4) / 6\n",
    "\n",
    "        return uRes, FRes"
   ]
  },
  {
   "cell_type": "markdown",
   "metadata": {},
   "source": [
    "### Результаты"
   ]
  },
  {
   "cell_type": "code",
   "execution_count": 5,
   "metadata": {},
   "outputs": [
    {
     "name": "stdout",
     "output_type": "stream",
     "text": [
      "Коэффициенты: 2.9999969566309646x + -27.606307905254777\n"
     ]
    }
   ],
   "source": [
    "eq = Equation()\n",
    "solve = Solver(eq)\n",
    "\n",
    "ksi, u, F = solve.DichotomyMethod()\n",
    "\n",
    "z = solve.z\n",
    "k = eq.k(z)\n",
    "u_p = eq.u_p(z)"
   ]
  },
  {
   "cell_type": "code",
   "execution_count": 6,
   "metadata": {},
   "outputs": [
    {
     "data": {
      "image/png": "[encoded data removed]",
      "text/plain": [
       "<Figure size 1000x800 with 4 Axes>"
      ]
     },
     "metadata": {},
     "output_type": "display_data"
    }
   ],
   "source": [
    "# Графики\n",
    "\n",
    "fig, axs = plt.subplots(2, 2, figsize = (10, 8))\n",
    "\n",
    "# u(z)\n",
    "axs[0, 0].plot(z, u, \"red\")\n",
    "axs[0, 0].set_title(\"u(z)\")\n",
    "\n",
    "# u_p(z)\n",
    "axs[0, 1].plot(z, u, \"red\")\n",
    "axs[0, 1].plot(z, u_p, \"blue\")\n",
    "axs[0, 1].set_title(\"u_p(z)\")\n",
    "\n",
    "# F(z)\n",
    "axs[1, 0].plot(z, F, \"green\")\n",
    "axs[1, 0].set_title(\"F(z)\")\n",
    "\n",
    "# k(z)\n",
    "axs[1, 1].plot(z, k, \"magenta\")\n",
    "axs[1, 1].set_title(\"k(z)\")\n",
    "\n",
    "for ax in axs.flat:\n",
    "    ax.grid(True)\n",
    "\n",
    "plt.show()"
   ]
  },
  {
   "cell_type": "code",
   "execution_count": 7,
   "metadata": {},
   "outputs": [
    {
     "name": "stdout",
     "output_type": "stream",
     "text": [
      "Значение ξ: 0.15291609494004976\n",
      "Границы ξ: (0.15291609494004965; 0.15291609494004987)\n"
     ]
    }
   ],
   "source": [
    "table = pt.PrettyTable()\n",
    "\n",
    "table.add_column(\"z\", np.round(z, 2))\n",
    "table.add_column(\"u(z)\", np.round(u, 10))\n",
    "table.add_column(\"u_p(z)\", np.round(u_p, 10))\n",
    "table.add_column(\"F(z)\", np.round(F, 4))\n",
    "table.add_column(\"k(z)\", np.round(k, 4))\n",
    "\n",
    "table.border = True\n",
    "ksi = np.sort(ksi)\n",
    "\n",
    "print(f\"Значение ξ: {(ksi[0] + ksi[1]) / 2}\")\n",
    "print(f\"Границы ξ: ({ksi[0]}; {ksi[1]})\")"
   ]
  },
  {
   "cell_type": "markdown",
   "metadata": {},
   "source": [
    "# Лабораторная 3"
   ]
  },
  {
   "cell_type": "markdown",
   "metadata": {},
   "source": [
    "## Правая прогонка"
   ]
  },
  {
   "cell_type": "code",
   "execution_count": 8,
   "metadata": {},
   "outputs": [
    {
     "name": "stdout",
     "output_type": "stream",
     "text": [
      "[ 0.         -0.33333333 -0.46153846] [ 0.          0.33333333 -0.61538462]\n",
      "[ 1. -2.  3.]\n"
     ]
    }
   ],
   "source": [
    "# Метод прогонки решения слау в виде 3х диагональной матрицы\n",
    "# Ax = F A - матрица\n",
    "\n",
    "A = np.array([[3, 1, 0],\n",
    "              [-1, 4, 2],\n",
    "              [0, 2, 3]])\n",
    "\n",
    "f = np.array([1, -3, 5])\n",
    "\n",
    "n = f.size\n",
    "\n",
    "c = np.hstack(([0], np.diag(A, k = -1)))\n",
    "d = np.diag(A, k = 0)\n",
    "e = np.diag(A, k = 1)\n",
    "\n",
    "a = np.zeros(n)\n",
    "b = np.zeros(n)\n",
    "x = np.zeros(n)\n",
    "\n",
    "# прямой ход : находим прогоночные коэффициенты\n",
    "for i in range(n - 1):\n",
    "\n",
    "    if i == 0:\n",
    "        a[i + 1] = -e[i] / d[i]\n",
    "        b[i + 1] = f[i] / d[i]\n",
    "    else:\n",
    "        zn = c[i] * a[i] + d[i]\n",
    "\n",
    "        a[i + 1] = -e[i] / zn\n",
    "        b[i + 1] = (f[i] - c[i] * b[i]) / zn\n",
    "\n",
    "print(a, b)\n",
    "\n",
    "# обратный ход : находим иксы\n",
    "for i in range(n - 1, -1, -1):\n",
    "\n",
    "    if i == n - 1:\n",
    "        x[i] = (f[i] - c[i] * b[i]) / (c[i] * a[i] + d[i])\n",
    "    else:   \n",
    "        x[i] = a[i + 1] * x[i + 1] + b[i + 1]\n",
    "\n",
    "print(x)"
   ]
  },
  {
   "cell_type": "markdown",
   "metadata": {},
   "source": [
    "# Левая прогонка"
   ]
  },
  {
   "cell_type": "code",
   "execution_count": 9,
   "metadata": {},
   "outputs": [],
   "source": [
    "A = np.array([[3, 1, 0],\n",
    "              [-1, 4, 2],\n",
    "              [0, 2, 3]])\n",
    "\n",
    "f = np.array([1, -3, 5])\n",
    "\n",
    "n = f.size\n",
    "\n",
    "c = c = np.hstack(([0], np.diag(A, k = -1)))\n",
    "d = np.diag(A, k=0)\n",
    "e = np.diag(A, k=1)\n",
    "\n",
    "a = np.zeros(n)\n",
    "b = np.zeros(n)\n",
    "x = np.zeros(n)\n",
    "\n",
    "for i in range(n - 1, 0, -1):\n",
    "    \n",
    "    if i == n - 1:\n",
    "        a[i - 1] = -c[i] / d[i]  \n",
    "        b[i - 1] = f[i] / d[i]  \n",
    "\n",
    "    else:\n",
    "        zn = e[i] * a[i] + d[i]  \n",
    "\n",
    "        a[i - 1] = -c[i] / zn  \n",
    "        b[i - 1] = (f[i] - e[i] * b[i]) / zn \n",
    "\n",
    "for i in range(n):\n",
    "\n",
    "    if i == 0:\n",
    "        x[i] = (f[i] - e[i] * b[i]) / (e[i] * a[i] + d[i])  \n",
    "    else:\n",
    "        x[i] = a[i - 1] * x[i - 1] + b[i - 1]\n"
   ]
  },
  {
   "cell_type": "code",
   "execution_count": null,
   "metadata": {},
   "outputs": [],
   "source": []
  }
 ],
 "metadata": {
  "kernelspec": {
   "display_name": "Python 3",
   "language": "python",
   "name": "python3"
  },
  "language_info": {
   "codemirror_mode": {
    "name": "ipython",
    "version": 3
   },
   "file_extension": ".py",
   "mimetype": "text/x-python",
   "name": "python",
   "nbconvert_exporter": "python",
   "pygments_lexer": "ipython3",
   "version": "3.10.6"
  }
 },
 "nbformat": 4,
 "nbformat_minor": 2
}
